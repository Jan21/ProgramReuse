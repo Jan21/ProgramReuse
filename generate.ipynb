{
 "cells": [
  {
   "cell_type": "code",
   "execution_count": null,
   "metadata": {},
   "outputs": [],
   "source": [
    "from array_manipulations import create_array_manipulations\n",
    "\n",
    "manipulations = create_array_manipulations()\n",
    "arr = [1, 2, 3, 4, 5]\n",
    "\n",
    "# Example: Use a permutation function\n",
    "result = manipulations['permutations']['swap_first_last'](arr)\n",
    "\n",
    "# Example: Use a mapping function\n",
    "result = manipulations['mappings']['double_each'](arr)\n",
    "result"
   ]
  }
 ],
 "metadata": {
  "language_info": {
   "name": "python"
  }
 },
 "nbformat": 4,
 "nbformat_minor": 2
}
